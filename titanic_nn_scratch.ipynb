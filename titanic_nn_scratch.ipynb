{
 "cells": [
  {
   "cell_type": "code",
   "execution_count": 1,
   "metadata": {
    "collapsed": true
   },
   "outputs": [],
   "source": [
    "from __future__ import print_function\n",
    "\n",
    "import matplotlib.pyplot as plt\n",
    "import numpy as np\n",
    "import pandas as pd\n",
    "\n",
    "np.random.seed(42)\n",
    "pd.options.mode.chained_assignment = None"
   ]
  },
  {
   "cell_type": "code",
   "execution_count": 2,
   "metadata": {
    "collapsed": true
   },
   "outputs": [],
   "source": [
    "'''\n",
    "PREPROCESSING\n",
    "'''\n",
    "\n",
    "df_train = pd.read_csv('train.csv')\n",
    "df_test = pd.read_csv('test.csv')\n",
    "\n",
    "def clean(df, thresh):\n",
    "\n",
    "    # DROP SHIT\n",
    "    df.drop(['PassengerId', 'Ticket', 'Cabin'], axis=1, inplace=True)\n",
    "\n",
    "    # CLEAN FURTHER\n",
    "    lst = ['Mr.','Mrs.','Master.','Miss.']\n",
    "    count =0\n",
    "    for i in range(len(df)):\n",
    "        i += thresh\n",
    "        \n",
    "        # EXTRACT NAME\n",
    "        l = df.Name[i].split(' ')\n",
    "        for j in l:\n",
    "            if j.strip() in lst:\n",
    "                df.Name[i] = j.strip()[:-1]\n",
    "                count +=1\n",
    "                break\n",
    "            df.Name[i] = ''\n",
    "\n",
    "        # FILL NAME\n",
    "        if df.Name[i] == '':\n",
    "            if df.Sex[i]=='male':\n",
    "                if df.Age[i]>=18:\n",
    "                    df.Name[i]='Mr'\n",
    "                else:\n",
    "                    df.Name[i]='Master'\n",
    "            elif df.Sex[i]=='female':\n",
    "                if df.Age[i]>=18:\n",
    "                    df.Name[i]='Mrs'\n",
    "                else:\n",
    "                    df.Name[i]='Miss'\n",
    "\n",
    "        # FILL AGE\n",
    "        if not(df.Age[i]>0.001):\n",
    "            if df.Name[i]=='Mr' or df.Name[i]=='Mrs':\n",
    "                df.Age[i]=np.random.choice(range(20,50))\n",
    "            else:\n",
    "                df.Age[i]=np.random.choice(range(5,18))\n",
    "        \n",
    "    # MAKE NUMERIC\n",
    "    df.replace({'Sex':{'male':0,'female':1}, 'Embarked':{'S':-1,'C':0,'Q':1},\\\n",
    "                'Name':{'Mr':-1,'Mrs':1,'Master':-0.5,'Miss':0.5}}, inplace=True)"
   ]
  },
  {
   "cell_type": "code",
   "execution_count": 3,
   "metadata": {
    "collapsed": true
   },
   "outputs": [],
   "source": [
    "# DATASET FUNCTIONS\n",
    "def get_train_data():\n",
    "    df = df_train[:720]\n",
    "    clean(df, 0)\n",
    "    x = df.drop(['Survived'], axis=1)\n",
    "    x = (x - x.mean())/(x.max()-x.min())\n",
    "    y = df.loc[:,'Survived']\n",
    "    x = x.values\n",
    "    y = y.values\n",
    "    y = np.expand_dims(y, axis=1)\n",
    "    return x,y\n",
    "\n",
    "def get_val_data():\n",
    "    df = df_train[720:]\n",
    "    clean(df, 720)\n",
    "    x = df.drop(['Survived'], axis=1)\n",
    "    x = (x - x.mean())/(x.max()-x.min())\n",
    "    y = df.loc[:,'Survived']\n",
    "    x = x.values\n",
    "    y = y.values\n",
    "    y = np.expand_dims(y, axis=1)\n",
    "    return x,y\n",
    "\n",
    "def get_test_data():\n",
    "    df = df_test\n",
    "    clean(df, 0)\n",
    "    x = df\n",
    "    x = (x - x.mean())/(x.max()-x.min())\n",
    "    x = x.values\n",
    "    return x"
   ]
  },
  {
   "cell_type": "code",
   "execution_count": 4,
   "metadata": {
    "collapsed": true
   },
   "outputs": [],
   "source": [
    "# DATA\n",
    "train_data, train_labels = get_train_data()\n",
    "val_data, val_labels = get_val_data()\n",
    "test_data = get_test_data()"
   ]
  },
  {
   "cell_type": "code",
   "execution_count": 5,
   "metadata": {},
   "outputs": [
    {
     "name": "stdout",
     "output_type": "stream",
     "text": [
      "train_data (720, 8) train_label (720, 1)\n",
      "val_data (171, 8) val_label (171, 1)\n",
      "test_data (418, 8)\n"
     ]
    }
   ],
   "source": [
    "# CHECK SHAPES\n",
    "print ('train_data', train_data.shape, 'train_label', train_labels.shape)\n",
    "print ('val_data', val_data.shape, 'val_label', val_labels.shape)\n",
    "print ('test_data', test_data.shape)"
   ]
  },
  {
   "cell_type": "code",
   "execution_count": 6,
   "metadata": {
    "collapsed": true
   },
   "outputs": [],
   "source": [
    "# TRAINING PARAMETERS                       \n",
    "num_epochs = 100000\n",
    "display_epoch = 2000\n",
    "num_samples = train_data.shape[0]\n",
    "num_attrib=train_data.shape[1]\n",
    "batch_size = 16\n",
    "lr = 1e-4\n",
    "num_hidden=16"
   ]
  },
  {
   "cell_type": "code",
   "execution_count": 7,
   "metadata": {
    "collapsed": true
   },
   "outputs": [],
   "source": [
    "# SIGMOID ACTIVATION AND ITS DERIVATIVE\n",
    "def activate(x):\n",
    "    return 1 / (1+np.exp(-x))\n",
    "def d_activation(x):\n",
    "    return x * (1-x)"
   ]
  },
  {
   "cell_type": "code",
   "execution_count": 8,
   "metadata": {
    "collapsed": true
   },
   "outputs": [],
   "source": [
    "# WEIGHTS AND BIASES\n",
    "weight_i_h = np.random.random((num_attrib, num_hidden)) - 0.3\n",
    "weight_h_o = np.random.random((num_hidden,1)) - 0.1\n",
    "bias_i_h = np.random.random((num_hidden)) + 0.2\n",
    "bias_h_o = np.random.random((1)) + 0.3"
   ]
  },
  {
   "cell_type": "code",
   "execution_count": 9,
   "metadata": {},
   "outputs": [
    {
     "name": "stdout",
     "output_type": "stream",
     "text": [
      "Training in progress...\n",
      "Epoch: 00001  Loss: 7.9691142798  Training Accuracy: 0.50000\n",
      "Epoch: 02000  Loss: 5.8902202109  Training Accuracy: 0.81250\n",
      "Epoch: 04000  Loss: 4.7790904040  Training Accuracy: 0.81250\n",
      "Epoch: 06000  Loss: 4.4328237113  Training Accuracy: 0.81250\n",
      "Epoch: 08000  Loss: 4.2514062935  Training Accuracy: 0.81250\n",
      "Epoch: 10000  Loss: 4.1353998644  Training Accuracy: 0.81250\n",
      "Epoch: 12000  Loss: 4.0578665582  Training Accuracy: 0.81250\n",
      "Epoch: 14000  Loss: 4.0051760736  Training Accuracy: 0.81250\n",
      "Epoch: 16000  Loss: 3.9688953713  Training Accuracy: 0.81250\n",
      "Epoch: 18000  Loss: 3.9436738170  Training Accuracy: 0.81250\n",
      "Epoch: 20000  Loss: 3.9260637385  Training Accuracy: 0.81250\n",
      "Epoch: 22000  Loss: 3.9137820698  Training Accuracy: 0.81250\n",
      "Epoch: 24000  Loss: 3.9052673809  Training Accuracy: 0.81250\n",
      "Epoch: 26000  Loss: 3.8994192509  Training Accuracy: 0.81250\n",
      "Epoch: 28000  Loss: 3.8954433750  Training Accuracy: 0.81250\n",
      "Epoch: 30000  Loss: 3.8927568501  Training Accuracy: 0.81250\n",
      "Epoch: 32000  Loss: 3.8909279685  Training Accuracy: 0.81250\n",
      "Epoch: 34000  Loss: 3.8896362320  Training Accuracy: 0.81250\n",
      "Epoch: 36000  Loss: 3.8886445863  Training Accuracy: 0.81250\n",
      "Epoch: 38000  Loss: 3.8877793310  Training Accuracy: 0.81250\n",
      "Epoch: 40000  Loss: 3.8869150786  Training Accuracy: 0.81250\n",
      "Epoch: 42000  Loss: 3.8859632071  Training Accuracy: 0.81250\n",
      "Epoch: 44000  Loss: 3.8848628578  Training Accuracy: 0.81250\n",
      "Epoch: 46000  Loss: 3.8835738704  Training Accuracy: 0.81250\n",
      "Epoch: 48000  Loss: 3.8820712453  Training Accuracy: 0.81250\n",
      "Epoch: 50000  Loss: 3.8803408307  Training Accuracy: 0.81250\n",
      "Epoch: 52000  Loss: 3.8783760042  Training Accuracy: 0.81250\n",
      "Epoch: 54000  Loss: 3.8761751576  Training Accuracy: 0.81250\n",
      "Epoch: 56000  Loss: 3.8737398270  Training Accuracy: 0.81250\n",
      "Epoch: 58000  Loss: 3.8710733339  Training Accuracy: 0.81250\n",
      "Epoch: 60000  Loss: 3.8681798237  Training Accuracy: 0.81250\n",
      "Epoch: 62000  Loss: 3.8650636107  Training Accuracy: 0.75000\n",
      "Epoch: 64000  Loss: 3.8617287518  Training Accuracy: 0.75000\n",
      "Epoch: 66000  Loss: 3.8581787905  Training Accuracy: 0.75000\n",
      "Epoch: 68000  Loss: 3.8544166252  Training Accuracy: 0.75000\n",
      "Epoch: 70000  Loss: 3.8504444682  Training Accuracy: 0.75000\n",
      "Epoch: 72000  Loss: 3.8462638705  Training Accuracy: 0.75000\n",
      "Epoch: 74000  Loss: 3.8418757959  Training Accuracy: 0.75000\n",
      "Epoch: 76000  Loss: 3.8372807336  Training Accuracy: 0.75000\n",
      "Epoch: 78000  Loss: 3.8324788402  Training Accuracy: 0.75000\n",
      "Epoch: 80000  Loss: 3.8274701070  Training Accuracy: 0.75000\n",
      "Epoch: 82000  Loss: 3.8222545477  Training Accuracy: 0.75000\n",
      "Epoch: 84000  Loss: 3.8168323990  Training Accuracy: 0.75000\n",
      "Epoch: 86000  Loss: 3.8112043323  Training Accuracy: 0.81250\n",
      "Epoch: 88000  Loss: 3.8053716650  Training Accuracy: 0.81250\n",
      "Epoch: 90000  Loss: 3.7993365656  Training Accuracy: 0.81250\n",
      "Epoch: 92000  Loss: 3.7931022435  Training Accuracy: 0.81250\n",
      "Epoch: 94000  Loss: 3.7866731123  Training Accuracy: 0.81250\n",
      "Epoch: 96000  Loss: 3.7800549194  Training Accuracy: 0.81250\n",
      "Epoch: 98000  Loss: 3.7732548337  Training Accuracy: 0.81250\n",
      "Epoch: 100000  Loss: 3.7662814856  Training Accuracy: 0.81250\n",
      "Model Trained !\n"
     ]
    }
   ],
   "source": [
    "# EMPTY LISTS TO STORE EPOCH, LOSS AND ACCURACY\n",
    "ep, lo, ac = [], [], []\n",
    "\n",
    "# TRAINING\n",
    "for epoch in range(1,num_epochs+1):\n",
    "    \n",
    "    for batch in range(num_samples/batch_size):\n",
    "        \n",
    "        # FORWARD PROPAGATON\n",
    "        input_layer = train_data[batch_size*batch: batch_size*(batch+1)]\n",
    "        hidden_layer = activate(np.dot(input_layer, weight_i_h) + bias_i_h)\n",
    "        output_layer = activate(np.dot(hidden_layer, weight_h_o) + bias_h_o)\n",
    "        output_train_labels = train_labels[batch_size*batch: batch_size*(batch+1)]\n",
    "\n",
    "        loss = output_layer - output_train_labels\n",
    "        \n",
    "        # BACKWARD PROPAGATION\n",
    "        weight_i_h -= lr * input_layer.T.dot(((loss * d_activation(output_layer)).dot(weight_h_o.T)) * d_activation(hidden_layer))\n",
    "        bias_i_h -= lr * sum(((loss * d_activation(output_layer)).dot(weight_h_o.T)) * d_activation(hidden_layer))\n",
    "        weight_h_o -= lr * hidden_layer.T.dot(loss * d_activation(output_layer))\n",
    "        bias_h_o -= lr * sum(loss * d_activation(output_layer))\n",
    "    \n",
    "    # ACCURACY\n",
    "    x_, y_ = train_data[batch_size*batch: batch_size*(batch+1)], train_labels[batch_size*batch: batch_size*(batch+1)]\n",
    "    prediction = activate((activate(x_.dot(weight_i_h) + bias_i_h)).dot(weight_h_o) + bias_h_o)\n",
    "    prediction = (np.round(prediction, decimals=0)).astype(int)\n",
    "    acc = np.mean(np.equal(y_, prediction))\n",
    "    \n",
    "    # STORE CHECKPOINTS\n",
    "    if epoch == 1:\n",
    "        print ('Training in progress...')\n",
    "        print ('Epoch:', '%05d' % (epoch), ' Loss: {0:.10f}'.format((sum(abs(loss)))[0]), ' Training Accuracy: {0:.5f}'.format(acc))\n",
    "    if epoch % display_epoch == 0:\n",
    "        print ('Epoch:', '%05d' % (epoch), ' Loss: {0:.10f}'.format((sum(abs(loss)))[0]), ' Training Accuracy: {0:.5f}'.format(acc))\n",
    "        ep.append(epoch)\n",
    "        lo.append((sum(abs(loss)))[0])\n",
    "        ac.append(acc)\n",
    "\n",
    "print ('Model Trained !')"
   ]
  },
  {
   "cell_type": "code",
   "execution_count": 10,
   "metadata": {},
   "outputs": [
    {
     "name": "stdout",
     "output_type": "stream",
     "text": [
      "Training Graph --\n"
     ]
    },
    {
     "data": {
      "image/png": "[encoded data removed]",
      "text/plain": [
       "<matplotlib.figure.Figure at 0x7f41dc19ec90>"
      ]
     },
     "metadata": {},
     "output_type": "display_data"
    }
   ],
   "source": [
    "# PLOT\n",
    "print ('Training Graph --')\n",
    "plt.plot(ep, lo, 'k-', label = 'Loss')\n",
    "plt.legend()\n",
    "plt.title('Drop in loss with Epochs')\n",
    "plt.xlabel('Number of Epochs')\n",
    "plt.ylabel('Loss')\n",
    "plt.grid(True)\n",
    "plt.show()"
   ]
  },
  {
   "cell_type": "code",
   "execution_count": 11,
   "metadata": {},
   "outputs": [
    {
     "name": "stdout",
     "output_type": "stream",
     "text": [
      "Validation Accuracy --\n",
      "0.859649122807\n"
     ]
    }
   ],
   "source": [
    "# VALIDATION\n",
    "val_data, val_label = get_val_data()\n",
    "prediction = activate((activate(val_data.dot(weight_i_h) + bias_i_h)).dot(weight_h_o) + bias_h_o)\n",
    "print ('Validation Accuracy --')\n",
    "prediction = (np.round(prediction, decimals=0)).astype(int)\n",
    "acc = np.mean(np.equal(val_label, prediction))\n",
    "print (acc)"
   ]
  },
  {
   "cell_type": "code",
   "execution_count": 12,
   "metadata": {},
   "outputs": [
    {
     "name": "stdout",
     "output_type": "stream",
     "text": [
      "Test Predictions --\n",
      "[138] survived out of 418\n"
     ]
    }
   ],
   "source": [
    "# TEST\n",
    "test = test_data\n",
    "prediction = activate((activate(test.dot(weight_i_h) + bias_i_h)).dot(weight_h_o) + bias_h_o)\n",
    "print ('Test Predictions --')\n",
    "prediction = (np.round(prediction, decimals=0)).astype(int)\n",
    "print (sum(prediction), 'survived out of', len(test_data))"
   ]
  }
 ],
 "metadata": {
  "kernelspec": {
   "display_name": "Python 2",
   "language": "python",
   "name": "python2"
  },
  "language_info": {
   "codemirror_mode": {
    "name": "ipython",
    "version": 2
   },
   "file_extension": ".py",
   "mimetype": "text/x-python",
   "name": "python",
   "nbconvert_exporter": "python",
   "pygments_lexer": "ipython2",
   "version": "2.7.14"
  }
 },
 "nbformat": 4,
 "nbformat_minor": 2
}
